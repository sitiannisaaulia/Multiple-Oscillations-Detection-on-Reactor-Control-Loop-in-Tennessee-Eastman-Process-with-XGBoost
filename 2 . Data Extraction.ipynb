{
 "cells": [
  {
   "cell_type": "code",
   "execution_count": 4,
   "id": "ab8c9b73",
   "metadata": {},
   "outputs": [
    {
     "name": "stderr",
     "output_type": "stream",
     "text": [
      "C:\\Users\\Lenovo\\AppData\\Local\\Temp\\ipykernel_3852\\2041249354.py:43: PerformanceWarning: DataFrame is highly fragmented.  This is usually the result of calling `frame.insert` many times, which has poor performance.  Consider joining all columns at once using pd.concat(axis=1) instead. To get a de-fragmented frame, use `newframe = frame.copy()`\n",
      "  DF[\"frame%.0d\" % i] = frame # Hasil segmentasi data\n",
      "C:\\Users\\Lenovo\\AppData\\Local\\Temp\\ipykernel_3852\\2041249354.py:43: PerformanceWarning: DataFrame is highly fragmented.  This is usually the result of calling `frame.insert` many times, which has poor performance.  Consider joining all columns at once using pd.concat(axis=1) instead. To get a de-fragmented frame, use `newframe = frame.copy()`\n",
      "  DF[\"frame%.0d\" % i] = frame # Hasil segmentasi data\n",
      "C:\\Users\\Lenovo\\AppData\\Local\\Temp\\ipykernel_3852\\2041249354.py:43: PerformanceWarning: DataFrame is highly fragmented.  This is usually the result of calling `frame.insert` many times, which has poor performance.  Consider joining all columns at once using pd.concat(axis=1) instead. To get a de-fragmented frame, use `newframe = frame.copy()`\n",
      "  DF[\"frame%.0d\" % i] = frame # Hasil segmentasi data\n",
      "C:\\Users\\Lenovo\\AppData\\Local\\Temp\\ipykernel_3852\\2041249354.py:43: PerformanceWarning: DataFrame is highly fragmented.  This is usually the result of calling `frame.insert` many times, which has poor performance.  Consider joining all columns at once using pd.concat(axis=1) instead. To get a de-fragmented frame, use `newframe = frame.copy()`\n",
      "  DF[\"frame%.0d\" % i] = frame # Hasil segmentasi data\n",
      "C:\\Users\\Lenovo\\AppData\\Local\\Temp\\ipykernel_3852\\2041249354.py:43: PerformanceWarning: DataFrame is highly fragmented.  This is usually the result of calling `frame.insert` many times, which has poor performance.  Consider joining all columns at once using pd.concat(axis=1) instead. To get a de-fragmented frame, use `newframe = frame.copy()`\n",
      "  DF[\"frame%.0d\" % i] = frame # Hasil segmentasi data\n",
      "C:\\Users\\Lenovo\\AppData\\Local\\Temp\\ipykernel_3852\\2041249354.py:43: PerformanceWarning: DataFrame is highly fragmented.  This is usually the result of calling `frame.insert` many times, which has poor performance.  Consider joining all columns at once using pd.concat(axis=1) instead. To get a de-fragmented frame, use `newframe = frame.copy()`\n",
      "  DF[\"frame%.0d\" % i] = frame # Hasil segmentasi data\n"
     ]
    }
   ],
   "source": [
    "import pandas as pd\n",
    "import tsfel\n",
    "import glob\n",
    "import os\n",
    "from sklearn.preprocessing import MinMaxScaler\n",
    "\n",
    "#df01 = pd.read_csv(r\"Stiksi IDV 14 dan Tuning TC 10/XMEAS.csv\")\n",
    "#df01.columns = [\"XMEAS 1\", \"XMEAS 2\", \"XMEAS 3\", \"XMEAS 4\",\"XMEAS 5\", \"XMEAS 6\", \"XMEAS 7\", \"XMEAS 8\",\n",
    "                #\"XMEAS 9\", \"XMEAS 10\", \"XMEAS 11\", \"XMEAS 12\",\"XMEAS 13\", \"XMEAS 14\", \"XMEAS 15\", \"XMEAS 16\",\n",
    "                #\"XMEAS 17\", \"XMEAS 18\", \"XMEAS 19\", \"XMEAS 20\",\"XMEAS 21\", \"XMEAS 22\", \"XMEAS 23\", \"XMEAS 24\",\n",
    "                #\"XMEAS 25\", \"XMEAS 26\", \"XMEAS 27\", \"XMEAS 28\",\"XMEAS 29\", \"XMEAS 30\", \"XMEAS 31\", \"XMEAS 32\",\n",
    "                #\"XMEAS 33\", \"XMEAS 34\", \"XMEAS 35\", \"XMEAS 36\",\"XMEAS 37\", \"XMEAS 38\", \"XMEAS 39\", \"XMEAS 40\",\"XMEAS 41\"]\n",
    "\n",
    "df01 = pd.read_csv(\"Stiksi IDV 14 dan Eksternal IDV 4/me03.csv\")\n",
    "df01.columns = [\"XMEAS 9\", \"XMEAS 10\", \"XMEAS 11\", \"XMEAS 12\"]\n",
    "df02 = pd.read_csv(\"Stiksi IDV 14 dan Eksternal IDV 4/me06.csv\")\n",
    "df02.columns = [\"XMEAS 21\", \"XMEAS 22\", \"XMEAS 23\", \"XMEAS 24\"]\n",
    "\n",
    "frame = [df01,df02]                \n",
    "df = pd.concat(frame, axis=1)\n",
    "df.drop(labels=range(41400,49608), axis=0, inplace=True)\n",
    "df_fix = df[[\"XMEAS 9\", \"XMEAS 21\"]]\n",
    "\n",
    "MM = MinMaxScaler(feature_range=(0, 1))\n",
    "dfn = MM.fit_transform(df_fix)\n",
    "dfn = pd.DataFrame(dfn)\n",
    "\n",
    "# Membuat perintah segmentasi, ekstraksi fitur, dan pelabelan\n",
    "def preprocessing(XMEAS, amount, length, older):\n",
    "    #kolom  : kolom XMEAS yang dipilih\n",
    "    #amount : jumlah subset data hasil segmentasi\n",
    "    #length : ukuran jendela\n",
    "    #older  : urutan XMEAS yang digunakan\n",
    "    cgf_file = tsfel.get_features_by_domain() # Penentuan domain TSFEL\n",
    "    df_ef = dfn.iloc[:,XMEAS].values # Penentuan XMEAS yang digunakan\n",
    "    DF = pd.DataFrame() # Pembuatan Data Frame\n",
    "    for i in range (0, amount, 1): # Melakukan segmentasi data\n",
    "        batas_bawah = i*length # Penentuan batas bawah per subdata\n",
    "        segmentasi  = df_ef[batas_bawah:(batas_bawah + length)] # Pembagian subdata\n",
    "        frame = [] # List kosong untuk pembuatan frame baru\n",
    "        for j in segmentasi:\n",
    "            frame.append(j) # Memasukkan pembagian subdata ke dalam frame\n",
    "        DF[\"frame%.0d\" % i] = frame # Hasil segmentasi data\n",
    "    for n in range(0, len(DF.columns), 1): # Melakukan ekstraksi fitur\n",
    "        extract = tsfel.time_series_features_extractor(cgf_file, DF[\"frame%.0d\" % n], fs=100,verbose=0)\n",
    "        # Penyimpanan hasil ekstraksi\n",
    "        extract.to_csv(r\"Hasil Ekstraksi Data/%.0d Stiksi Eksternal IDV 4/FrameJamak%.0f.csv\" %(length, (n+amount*(older+6))), index=False)\n",
    "\n",
    "# Mencetak Hasil\n",
    "kolom=[0,1] # 0 saja jik hanya ingin XMEAS 9\n",
    "for hasil in range(0, len(kolom)):\n",
    "    preprocessing(kolom[hasil],103, 400, hasil)\n",
    "        \n",
    "# Membaca file yang akan digabungkan\n",
    "joined_files = os.path.join(\"Hasil Ekstraksi Data/400 Stiksi Eksternal IDV 4\", \"Frame*.csv\")\n",
    "# Menggabungkan beberapa file menjadi 1 file\n",
    "joined_list = glob.glob(joined_files) \n",
    "df_final = pd.concat(map(pd.read_csv, joined_list), ignore_index=True) \n",
    "df_final[\"Label\"] = \"3\" # Pelabelan Subdata\n",
    "# Menyimpan hasil penggabungan data menjadi 1 file\n",
    "df_final.to_csv(r'Data 4 Stiksi Eksternal IDV 4.csv')  "
   ]
  },
  {
   "cell_type": "code",
   "execution_count": null,
   "id": "ba90932d",
   "metadata": {},
   "outputs": [],
   "source": []
  }
 ],
 "metadata": {
  "kernelspec": {
   "display_name": "Python 3 (ipykernel)",
   "language": "python",
   "name": "python3"
  },
  "language_info": {
   "codemirror_mode": {
    "name": "ipython",
    "version": 3
   },
   "file_extension": ".py",
   "mimetype": "text/x-python",
   "name": "python",
   "nbconvert_exporter": "python",
   "pygments_lexer": "ipython3",
   "version": "3.8.5"
  }
 },
 "nbformat": 4,
 "nbformat_minor": 5
}
